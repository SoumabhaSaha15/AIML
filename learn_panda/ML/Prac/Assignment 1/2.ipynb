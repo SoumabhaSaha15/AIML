{
 "cells": [
  {
   "cell_type": "markdown",
   "metadata": {},
   "source": [
    "2. Create a data frame with three columns- Name, Age and Rating\n",
    "a. Find the sum of columns\n",
    "b. Find average age and rating\n",
    "c. Find the standard deviation\n",
    "d. Describe the data frame"
   ]
  },
  {
   "cell_type": "code",
   "execution_count": 2,
   "metadata": {},
   "outputs": [
    {
     "name": "stdout",
     "output_type": "stream",
     "text": [
      "Sum of age: 180\n",
      "Average of age: 45.0\n",
      "Standard deviation of age: 15.811388300841896\n",
      "Description\n",
      "          Age  Rating\n",
      "count   4.00    4.00\n",
      "mean   45.00    7.05\n",
      "std    15.81    2.05\n",
      "min    25.00    4.50\n",
      "25%    36.25    5.85\n",
      "50%    47.50    7.40\n",
      "75%    56.25    8.60\n",
      "max    60.00    8.90\n"
     ]
    }
   ],
   "source": [
    "import pandas as pd\n",
    "#a.\n",
    "data={\n",
    "    'Name':['Rakim','Rahul','Rohan','Ram'],\n",
    "    'Age': [25,60,40,55],\n",
    "    'Rating':[6.3,8.5,8.9,4.5]\n",
    "}\n",
    "df=pd.DataFrame(data)\n",
    "Sum=df['Age'].sum()\n",
    "print(\"Sum of age:\",Sum)\n",
    "Avg=df['Age'].mean()\n",
    "print(\"Average of age:\",Avg)\n",
    "Sd=df['Age'].std()\n",
    "print(\"Standard deviation of age:\",Sd)\n",
    "print(\"Description\\n\",df.describe().round(2)) #Round 2 will set 2 digits after Decimal\n"
   ]
  },
  {
   "cell_type": "markdown",
   "metadata": {},
   "source": [
    "The output of `df.describe()` provides a statistical summary of the numerical columns in the DataFrame. Here’s a breakdown of each row in the summary:\n",
    "\n",
    "### Age Column\n",
    "- **Count**: There are 4 values in the \"Age\" column.\n",
    "- **Mean**: The average age is 45 years.\n",
    "- **Standard Deviation (std)**: The age values have a standard deviation of 15.81. This means the ages are somewhat spread out from the mean.\n",
    "- **Min**: The minimum age is 25.\n",
    "- **25% (1st Quartile)**: 36.25 is the age below which 25% of the data falls.\n",
    "- **50% (Median)**: 47.5 is the middle value (median) for age, meaning half the values are below this and half are above.\n",
    "- **75% (3rd Quartile)**: 56.25 is the age below which 75% of the data falls.\n",
    "- **Max**: The maximum age is 60.\n",
    "\n",
    "### Rating Column\n",
    "- **Count**: There are 4 values in the \"Rating\" column.\n",
    "- **Mean**: The average rating is 7.05.\n",
    "- **Standard Deviation (std)**: The ratings have a standard deviation of 2.05, indicating a moderate spread around the mean.\n",
    "- **Min**: The lowest rating is 4.5.\n",
    "- **25% (1st Quartile)**: 5.85 is the rating below which 25% of the data falls.\n",
    "- **50% (Median)**: 7.4 is the middle value (median) for ratings.\n",
    "- **75% (3rd Quartile)**: 8.6 is the rating below which 75% of the data falls.\n",
    "- **Max**: The highest rating is 8.9.\n",
    "\n",
    "### Key Takeaways\n",
    "- **Age**: Ages are moderately spread with a mean age of 45, and the values range from 25 to 60.\n",
    "- **Rating**: Ratings have a slight spread, with an average of 7.05 and a range from 4.5 to 8.9."
   ]
  }
 ],
 "metadata": {
  "kernelspec": {
   "display_name": "Python 3",
   "language": "python",
   "name": "python3"
  },
  "language_info": {
   "codemirror_mode": {
    "name": "ipython",
    "version": 3
   },
   "file_extension": ".py",
   "mimetype": "text/x-python",
   "name": "python",
   "nbconvert_exporter": "python",
   "pygments_lexer": "ipython3",
   "version": "3.12.4"
  }
 },
 "nbformat": 4,
 "nbformat_minor": 2
}
