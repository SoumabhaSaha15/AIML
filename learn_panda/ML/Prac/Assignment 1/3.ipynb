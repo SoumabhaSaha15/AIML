{
 "cells": [
  {
   "cell_type": "markdown",
   "metadata": {},
   "source": [
    "3. Create a data frame with three columns and 5 rows of random values. Find the row-wise sum using the apply()\n",
    "funtion"
   ]
  },
  {
   "cell_type": "code",
   "execution_count": 2,
   "metadata": {},
   "outputs": [
    {
     "name": "stdout",
     "output_type": "stream",
     "text": [
      "   A  B  C\n",
      "0  2  7  3\n",
      "1  2  2  7\n",
      "2  8  5  3\n",
      "3  9  4  5\n",
      "4  9  5  8 \n",
      "\n",
      " A  B  C\n",
      " 2  7  3\n",
      " 2  2  7\n",
      " 8  5  3\n",
      " 9  4  5\n",
      " 9  5  8\n",
      "   A  B  C  Row_Sum\n",
      "0  2  7  3       12\n",
      "1  2  2  7       11\n",
      "2  8  5  3       16\n",
      "3  9  4  5       18\n",
      "4  9  5  8       22\n"
     ]
    }
   ],
   "source": [
    "import numpy as np\n",
    "import pandas as pd\n",
    "\n",
    "rand_data = np.random.randint(0, 10, size=(5, 3))\n",
    "df = pd.DataFrame(rand_data, columns=['A', 'B', 'C'])\n",
    "print(df,\"\\n\")\n",
    "print(df.to_string(index=False))\n",
    "\n",
    "# Calculate row-wise sum using apply function\n",
    "df['Row_Sum'] = df.apply(np.sum, axis=1) \n",
    "print(df)"
   ]
  },
  {
   "cell_type": "markdown",
   "metadata": {},
   "source": [
    "*axis=0* (default): The function is applied column-wise, meaning it processes each column independently. For instance, if you used np.sum with axis=0, it would give the sum of each column.\n",
    "\n",
    "*axis=1*: The function is applied row-wise, meaning it processes each row independently. This is why axis=1 is specified when you want to calculate the row-wise sum, as it tells apply() to sum across each row.*axis=0* (default): The function is applied column-wise, meaning it processes each column independently. For instance, if you used np.sum with axis=0, it would give the sum of each column.\n",
    "\n",
    "*axis=1*: The function is applied row-wise, meaning it processes each row independently. This is why axis=1 is specified when you want to calculate the row-wise sum, as it tells apply() to sum across each row."
   ]
  }
 ],
 "metadata": {
  "kernelspec": {
   "display_name": "Python 3",
   "language": "python",
   "name": "python3"
  },
  "language_info": {
   "codemirror_mode": {
    "name": "ipython",
    "version": 3
   },
   "file_extension": ".py",
   "mimetype": "text/x-python",
   "name": "python",
   "nbconvert_exporter": "python",
   "pygments_lexer": "ipython3",
   "version": "3.12.4"
  }
 },
 "nbformat": 4,
 "nbformat_minor": 2
}
