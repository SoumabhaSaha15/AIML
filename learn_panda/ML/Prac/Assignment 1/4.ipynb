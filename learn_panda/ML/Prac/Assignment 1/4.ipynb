{
 "cells": [
  {
   "cell_type": "markdown",
   "metadata": {},
   "source": [
    "4. Consider the following data frame and illustrate application aggregate functions both row-wise and column-wise.\n",
    "A B C\n",
    "0 1.0 2 3.0\n",
    "1 4.0 5 6.0\n",
    "2 7.0 8 9.0\n",
    "3 NaN NaN NaN\n",
    "\n",
    "a)Display 1st 10 rows of the data frame. Ans df[:10]\n",
    "\n",
    "b)Apply aggregate functions row-wise\n",
    "\n",
    "c)Apply aggregate function column-wise."
   ]
  },
  {
   "cell_type": "code",
   "execution_count": 1,
   "metadata": {},
   "outputs": [
    {
     "name": "stdout",
     "output_type": "stream",
     "text": [
      "First 10 rows:\n",
      "      A    B    C\n",
      "0  1.0  2.0  3.0\n",
      "1  4.0  5.0  6.0\n",
      "2  7.0  8.0  9.0\n",
      "3  NaN  NaN  NaN\n",
      "\n",
      "DataFrame with row-wise sum and mean:\n",
      "      A    B    C  Row Sum  Row Mean\n",
      "0  1.0  2.0  3.0      6.0       3.0\n",
      "1  4.0  5.0  6.0     15.0       7.5\n",
      "2  7.0  8.0  9.0     24.0      12.0\n",
      "3  NaN  NaN  NaN      0.0       0.0\n",
      "\n",
      "Column-wise sum:\n",
      " A           12.0\n",
      "B           15.0\n",
      "C           18.0\n",
      "Row Sum     45.0\n",
      "Row Mean    22.5\n",
      "dtype: float64\n",
      "\n",
      "Column-wise mean:\n",
      " A            4.000\n",
      "B            5.000\n",
      "C            6.000\n",
      "Row Sum     11.250\n",
      "Row Mean     5.625\n",
      "dtype: float64\n"
     ]
    }
   ],
   "source": [
    "import numpy as np\n",
    "import pandas as pd\n",
    "\n",
    "data={'A': [1.0, 4.0, 7.0, np.nan],\n",
    "        'B': [2, 5, 8, np.nan],\n",
    "        'C': [3.0, 6.0, 9.0, np.nan]\n",
    "    }\n",
    "df = pd.DataFrame(data)\n",
    "# a) Display first 10 rows (or all rows if there are less than 10)\n",
    "print(\"First 10 rows:\\n\", df[:10])\n",
    "\n",
    "# b) Apply aggregate functions row-wise (e.g., sum, mean)\n",
    "df['Row Sum'] = df.apply(np.sum, axis=1)\n",
    "df['Row Mean'] = df.apply(np.mean, axis=1)\n",
    "print(\"\\nDataFrame with row-wise sum and mean:\\n\", df)\n",
    "\n",
    "# c) Apply aggregate functions column-wise (e.g., sum, mean)\n",
    "col_sum = df.sum()\n",
    "col_mean = df.mean()\n",
    "print(\"\\nColumn-wise sum:\\n\", col_sum)\n",
    "print(\"\\nColumn-wise mean:\\n\", col_mean)\n",
    "\n",
    "\n"
   ]
  }
 ],
 "metadata": {
  "kernelspec": {
   "display_name": "Python 3",
   "language": "python",
   "name": "python3"
  },
  "language_info": {
   "codemirror_mode": {
    "name": "ipython",
    "version": 3
   },
   "file_extension": ".py",
   "mimetype": "text/x-python",
   "name": "python",
   "nbconvert_exporter": "python",
   "pygments_lexer": "ipython3",
   "version": "3.12.4"
  }
 },
 "nbformat": 4,
 "nbformat_minor": 2
}
