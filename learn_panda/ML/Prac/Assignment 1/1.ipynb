{
 "cells": [
  {
   "cell_type": "markdown",
   "metadata": {},
   "source": [
    "---\n",
    "1. Create a data frame storing student's Roll number, Name, Total Marks and Class. Sort the data frame using Name and Marks"
   ]
  },
  {
   "cell_type": "code",
   "execution_count": null,
   "metadata": {},
   "outputs": [
    {
     "name": "stdout",
     "output_type": "stream",
     "text": [
      "Unsorted\n",
      "   Roll Number   Name  Total Marks class\n",
      "0          101  Rohan           85   10A\n",
      "1          102    Ram           95   10B\n",
      "2          103  Rohim           80   10A\n",
      "3          104  Rakim           90   10C\n",
      " Roll Number  Name  Total Marks class\n",
      "         101 Rohan           85   10A\n",
      "         102   Ram           95   10B\n",
      "         103 Rohim           80   10A\n",
      "         104 Rakim           90   10C\n",
      "\n",
      "sorted by Total marks\n",
      "   Roll Number   Name  Total Marks class\n",
      "3          104  Rakim           90   10C\n",
      "1          102    Ram           95   10B\n",
      "0          101  Rohan           85   10A\n",
      "2          103  Rohim           80   10A\n"
     ]
    }
   ],
   "source": [
    "import pandas as pd\n",
    "data = {\n",
    "    'Roll Number':[101, 102, 103, 104],\n",
    "    'Name':['Rohan','Ram','Rohim','Rakim'],\n",
    "    'Total Marks':[85,95,80,90],\n",
    "    'class':['10A','10B','10A','10C']\n",
    "}\n",
    "dataframe=pd.DataFrame(data)\n",
    "print(\"Unsorted\")\\print(dataframe)\n",
    "\n",
    "print(dataframe.to_string(index=False))\n",
    "print(\"\\nsorted by Total marks\")\n",
    "dataframe_sort=dataframe.sort_values(by=['Name','Total Marks'])\n",
    "print(dataframe_sort)\n"
   ]
  },
  {
   "cell_type": "markdown",
   "metadata": {},
   "source": [
    "*axis=0* (default): The function is applied column-wise, meaning it processes each column independently. For instance, if you used np.sum with axis=0, it would give the sum of each column.\n",
    "\n",
    "*axis=1*: The function is applied row-wise, meaning it processes each row independently. This is why axis=1 is specified when you want to calculate the row-wise sum, as it tells apply() to sum across each row."
   ]
  }
 ],
 "metadata": {
  "kernelspec": {
   "display_name": "Python 3",
   "language": "python",
   "name": "python3"
  },
  "language_info": {
   "codemirror_mode": {
    "name": "ipython",
    "version": 3
   },
   "file_extension": ".py",
   "mimetype": "text/x-python",
   "name": "python",
   "nbconvert_exporter": "python",
   "pygments_lexer": "ipython3",
   "version": "3.12.4"
  }
 },
 "nbformat": 4,
 "nbformat_minor": 2
}
