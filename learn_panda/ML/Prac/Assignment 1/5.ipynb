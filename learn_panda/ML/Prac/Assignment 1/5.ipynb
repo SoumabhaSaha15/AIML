{
 "cells": [
  {
   "cell_type": "markdown",
   "metadata": {},
   "source": [
    " 5. Download phone_data.csv from https://github.com/rashida048/Datasets/blob/master/phone_data.csv and write\n",
    "code to find:\n",
    "\n",
    "a. How many rows are there in the dataset?\n",
    "b. What was the longest phone call /data entry?\n",
    "c. How many seconds of phone calls are recorded in total?\n",
    "d. Number of nonnull unique network entries.\n",
    "e. How many entries are there for each month?\n",
    "f. Get the first entry for each month g. Get the sum of the durations per month\n",
    "h. Get the number of dates/entries in each month\n",
    "i. Sum of durations, for calls only, to each network\n",
    "j. How many calls, sms, and data entries are in each month?\n",
    "k. How many calls, texts, and data are sent per month, split by network type?"
   ]
  },
  {
   "cell_type": "code",
   "execution_count": null,
   "metadata": {},
   "outputs": [],
   "source": [
    "import pandas as pd"
   ]
  },
  {
   "cell_type": "code",
   "execution_count": null,
   "metadata": {},
   "outputs": [],
   "source": [
    "# Load the dataset from the provided URL\n",
    "url = \"https://github.com/rashida048/Datasets/raw/master/phone_data.csv\"\n",
    "df = pd.read_csv(url)"
   ]
  },
  {
   "cell_type": "code",
   "execution_count": null,
   "metadata": {},
   "outputs": [],
   "source": [
    "# a) Number of rows\n",
    "num_rows = df.shape[0]\n",
    "print(\"a. Number of rows in the dataset: \",num_rows)"
   ]
  },
  {
   "cell_type": "code",
   "execution_count": null,
   "metadata": {},
   "outputs": [],
   "source": [
    "# b) Longest phone call / data entry\n",
    "longest_duration = df['duration'].max()\n",
    "longest_entry = df[df['duration'] == longest_duration]\n",
    "print(f\"b. Longest phone call / data entry:\\n{longest_entry}\")"
   ]
  },
  {
   "cell_type": "code",
   "execution_count": null,
   "metadata": {},
   "outputs": [],
   "source": [
    "# c) Total seconds of phone calls\n",
    "total_duration = df[df['item'] == 'call']['duration'].sum()\n",
    "print(f\"c. Total seconds of phone calls recorded: {total_duration} seconds\")"
   ]
  },
  {
   "cell_type": "code",
   "execution_count": null,
   "metadata": {},
   "outputs": [],
   "source": [
    "#d) Number of non-null unique network entries\n",
    "unique_networks = df['network'].nunique()\n",
    "print(f\"d. Number of non-null unique network entries: {unique_networks}\")"
   ]
  },
  {
   "cell_type": "code",
   "execution_count": null,
   "metadata": {},
   "outputs": [],
   "source": [
    "# e) Entries per month\n",
    "entries_per_month = df['month'].value_counts().sort_index()\n",
    "print(f\"e. Entries per month:\\n{entries_per_month}\")"
   ]
  },
  {
   "cell_type": "code",
   "execution_count": null,
   "metadata": {},
   "outputs": [],
   "source": [
    "# f) First entry for each month\n",
    "first_entry_per_month = df.groupby('month').first()\n",
    "print(f\"f. First entry for each month:\\n{first_entry_per_month}\")"
   ]
  },
  {
   "cell_type": "code",
   "execution_count": null,
   "metadata": {},
   "outputs": [],
   "source": [
    "# g) Sum of durations per month\n",
    "sum_durations_per_month = df.groupby('month')['duration'].sum()\n",
    "print(f\"g. Sum of durations per month:\\n{sum_durations_per_month}\")"
   ]
  },
  {
   "cell_type": "code",
   "execution_count": null,
   "metadata": {},
   "outputs": [],
   "source": [
    "# h) Number of dates/entries in each month\n",
    "entries_count_per_month = df.groupby('month').size()\n",
    "print(f\"h. Number of dates/entries in each month:\\n{entries_count_per_month}\")"
   ]
  },
  {
   "cell_type": "code",
   "execution_count": null,
   "metadata": {},
   "outputs": [],
   "source": [
    "#i) Sum of durations for calls to each network\n",
    "calls_only = df[df['item'] == 'call']\n",
    "sum_durations_per_network = calls_only.groupby('network')['duration'].sum()\n",
    "print(f\"i. Sum of durations for calls to each network:\\n{sum_durations_per_network}\")"
   ]
  },
  {
   "cell_type": "code",
   "execution_count": null,
   "metadata": {},
   "outputs": [],
   "source": [
    "# j) Number of calls, sms, and data entries in each month\n",
    "entries_by_type_per_month = df.groupby(['month', 'item']).size().unstack().fillna(0)\n",
    "print(f\"j. Entries count by type (calls, sms, data) per month:\\n{entries_by_type_per_month}\")\n"
   ]
  },
  {
   "cell_type": "code",
   "execution_count": null,
   "metadata": {},
   "outputs": [],
   "source": [
    "# k) Calls, texts, and data sent per month, split by network type\n",
    "entries_by_network_type = df.groupby(['month', 'item', 'network_type']).size().unstack(fill_value=0)\n",
    "print(f\"k. Entries count by network type per month:\\n{entries_by_network_type}\")"
   ]
  }
 ],
 "metadata": {
  "kernelspec": {
   "display_name": "Python 3",
   "language": "python",
   "name": "python3"
  },
  "language_info": {
   "codemirror_mode": {
    "name": "ipython",
    "version": 3
   },
   "file_extension": ".py",
   "mimetype": "text/x-python",
   "name": "python",
   "nbconvert_exporter": "python",
   "pygments_lexer": "ipython3",
   "version": "3.12.4"
  }
 },
 "nbformat": 4,
 "nbformat_minor": 2
}
