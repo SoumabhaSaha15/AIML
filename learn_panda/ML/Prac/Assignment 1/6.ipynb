{
 "cells": [
  {
   "cell_type": "markdown",
   "metadata": {},
   "source": [
    "6. Related asiangamestop10.csv dataset\n",
    "a. Total Number of Records\n",
    "b. Top n Records .\n",
    "c. Rename ColName 'NOC' to 'Country'\n",
    "d. Top 15 Year Wise Medals Count Using BarGraph\n",
    "e. Top 15 Counrty Wise Medals Count Using BarGraph\n",
    "f. Max, Min and Mean for Total Medals"
   ]
  },
  {
   "cell_type": "code",
   "execution_count": null,
   "metadata": {},
   "outputs": [],
   "source": [
    "import numpy as np\n",
    "import pandas as pd"
   ]
  },
  {
   "cell_type": "code",
   "execution_count": null,
   "metadata": {},
   "outputs": [],
   "source": [
    "# drive.mount('/content/gdrive')\n",
    "\n",
    "# Load the dataset\n",
    "# file_path = 'gdrive/My Drive/Colab Notebooks/Assignment 1/asiangamestop10.csv'\n",
    "\n",
    "file_path = \"./asiangamestop10.csv\"\n",
    "df = pd.read_csv(file_path)"
   ]
  },
  {
   "cell_type": "code",
   "execution_count": null,
   "metadata": {},
   "outputs": [],
   "source": [
    "# a. Total Number of Records\n",
    "total_records = len(df)\n",
    "print(f\"a. Total Number of Records: {total_records}\")"
   ]
  },
  {
   "cell_type": "code",
   "execution_count": null,
   "metadata": {},
   "outputs": [],
   "source": [
    "# b. Top n Records\n",
    "n = 5  \n",
    "top_n_records = df.head(n)\n",
    "print(f\"b. Top {n} Records:\\n\", top_n_records)"
   ]
  },
  {
   "cell_type": "code",
   "execution_count": null,
   "metadata": {},
   "outputs": [],
   "source": [
    "# c. Rename ColName 'NOC' to 'Country'\n",
    "df.rename(columns={'NOC': 'Country'}, inplace=True)"
   ]
  },
  {
   "cell_type": "code",
   "execution_count": null,
   "metadata": {},
   "outputs": [],
   "source": [
    "# d. Top 15 Year Wise Medals Count\n",
    "year_wise_medals = df.groupby('Year')['Total'].sum().sort_values(ascending=False).head(15)\n",
    "print(\"Top 15 Year Wise Medals Count:\")\n",
    "print(year_wise_medals)"
   ]
  },
  {
   "cell_type": "code",
   "execution_count": null,
   "metadata": {},
   "outputs": [],
   "source": [
    "# e. Top 15 Country Wise Medals Count\n",
    "country_wise_medals = df.groupby('Country')['Total'].sum().sort_values(ascending=False).head(15)\n",
    "print(\"Top 15 Country Wise Medals Count:\")\n",
    "print(country_wise_medals)"
   ]
  },
  {
   "cell_type": "code",
   "execution_count": null,
   "metadata": {},
   "outputs": [],
   "source": [
    "# f. Max, Min and Mean for Total Medals\n",
    "max_medals = df['Total'].max()\n",
    "min_medals = df['Total'].min()\n",
    "mean_medals = df['Total'].mean()\n",
    "\n",
    "print(f\"Max Total Medals: {max_medals}\")\n",
    "print(f\"Min Total Medals: {min_medals}\")\n",
    "print(f\"Mean Total Medals: {mean_medals}\")"
   ]
  }
 ],
 "metadata": {
  "language_info": {
   "name": "python"
  }
 },
 "nbformat": 4,
 "nbformat_minor": 2
}
