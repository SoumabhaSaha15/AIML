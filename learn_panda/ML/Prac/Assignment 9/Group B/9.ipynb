{
 "cells": [
  {
   "cell_type": "markdown",
   "metadata": {},
   "source": [
    "9. Use the Adm_Pred.csv dataset\n",
    "a) Read all the dataset using a dataframe\n",
    "b) Update Research Experience (0=no, 1=yes), Admitted (0=no, 1=yes). Admitted is the target variable.\n",
    "c) Perform 80-20, 70-30 and 65-35 division for train and test set\n",
    "d) Apply Linear Regression classifier and display Accuracy\n",
    "e) Generate Confusion matrix\n",
    "f) Display Precision, Recall, F1-Score , Sensitivity , Specificity , Kappa stat .\n",
    "g) Generate a bar graph for 3 accuracies obtained"
   ]
  },
  {
   "cell_type": "code",
   "execution_count": 2,
   "metadata": {},
   "outputs": [],
   "source": [
    "import pandas as pd\n",
    "import numpy as np\n",
    "from sklearn.model_selection import train_test_split\n",
    "from sklearn.linear_model import LinearRegression, LogisticRegression\n",
    "from sklearn.metrics import accuracy_score, confusion_matrix, classification_report\n",
    "from sklearn.metrics import precision_score, recall_score, f1_score, roc_auc_score, cohen_kappa_score\n",
    "import matplotlib.pyplot as plt"
   ]
  },
  {
   "cell_type": "code",
   "execution_count": null,
   "metadata": {},
   "outputs": [],
   "source": [
    "# a) Load the dataset\n",
    "data = pd.read_csv('./Adm_Pred.csv')"
   ]
  },
  {
   "cell_type": "code",
   "execution_count": null,
   "metadata": {},
   "outputs": [],
   "source": [
    "#b)\n",
    "data['Admitted'] = (data['Chance of Admit '] >= 0.5).astype(int)\n",
    "\n",
    "# Drop unnecessary columns for model training (e.g., Serial No., Chance of Admit)\n",
    "data_cleaned = data.drop(columns=['Serial No.', 'Chance of Admit '])\n",
    "\n",
    "# Independent variables (features) and the target variable\n",
    "X = data_cleaned.drop(columns=['Admitted'])\n",
    "y = data_cleaned['Admitted']"
   ]
  },
  {
   "cell_type": "code",
   "execution_count": null,
   "metadata": {},
   "outputs": [],
   "source": [
    "# c) Train-Test Splits\n",
    "\n",
    "splits = {\n",
    "    '80-20': train_test_split(X, y, test_size=0.2, random_state=42),\n",
    "    '70-30': train_test_split(X, y, test_size=0.3, random_state=42),\n",
    "    '65-35': train_test_split(X, y, test_size=0.35, random_state=42)\n",
    "}"
   ]
  },
  {
   "cell_type": "code",
   "execution_count": 10,
   "metadata": {},
   "outputs": [
    {
     "name": "stdout",
     "output_type": "stream",
     "text": [
      "\n",
      "Linear Regression - 80-20 Split\n",
      "Accuracy: 0.91\n",
      "\n",
      "Linear Regression - 70-30 Split\n",
      "Accuracy: 0.91\n",
      "\n",
      "Linear Regression - 65-35 Split\n",
      "Accuracy: 0.91\n"
     ]
    }
   ],
   "source": [
    "# d) Linear Regression Classifier\n",
    "# e) Generate Confusion matrix\n",
    "# f) Display Precision, Recall, F1-Score , Sensitivity , Specificity , Kappa stat .\n",
    "\n",
    "linear_accuracies = {}\n",
    "for split_name, (X_train, X_test, y_train, y_test) in splits.items():\n",
    "    # Initialize and fit Linear Regression model\n",
    "    lin_reg = LinearRegression()\n",
    "    lin_reg.fit(X_train, y_train)\n",
    "    \n",
    "    # Predict\n",
    "    y_pred = lin_reg.predict(X_test)\n",
    "    y_pred = np.round(y_pred)  # Round to get binary predictions\n",
    "    \n",
    "    # Accuracy\n",
    "    accuracy = accuracy_score(y_test, y_pred)\n",
    "    linear_accuracies[split_name] = accuracy\n",
    "    \n",
    "    # Display Results\n",
    "    print(f\"\\nLinear Regression - {split_name} Split\")\n",
    "    print(f\"Accuracy: {accuracy:.2f}\")\n"
   ]
  },
  {
   "cell_type": "code",
   "execution_count": 11,
   "metadata": {},
   "outputs": [
    {
     "name": "stdout",
     "output_type": "stream",
     "text": [
      "Confusion Matrix:\n",
      "[[  0  16]\n",
      " [  0 159]]\n"
     ]
    }
   ],
   "source": [
    "# e) Generate Confusion matrix\n",
    "print(\"Confusion Matrix:\")\n",
    "print(confusion_matrix(y_test, y_pred))"
   ]
  },
  {
   "cell_type": "code",
   "execution_count": 12,
   "metadata": {},
   "outputs": [
    {
     "name": "stdout",
     "output_type": "stream",
     "text": [
      "Precision: 0.9085714285714286\n",
      "Recall: 1.0\n",
      "F1-Score: 0.9520958083832335\n",
      "Kappa: 0.0\n"
     ]
    }
   ],
   "source": [
    " #f) Display Precision, Recall, F1-Score , Sensitivity , Specificity , Kappa stat.\n",
    "print(\"Precision:\", precision_score(y_test, y_pred))\n",
    "print(\"Recall:\", recall_score(y_test, y_pred))\n",
    "print(\"F1-Score:\", f1_score(y_test, y_pred))\n",
    "print(\"Kappa:\", cohen_kappa_score(y_test, y_pred))"
   ]
  },
  {
   "cell_type": "code",
   "execution_count": 7,
   "metadata": {},
   "outputs": [
    {
     "data": {
      "image/png": "[encoded data removed]",
      "text/plain": [
       "<Figure size 800x500 with 1 Axes>"
      ]
     },
     "metadata": {},
     "output_type": "display_data"
    }
   ],
   "source": [
    "# d) Plot accuracy results\n",
    "plt.figure(figsize=(8, 5))\n",
    "plt.bar(linear_accuracies.keys(), linear_accuracies.values(), color='skyblue')\n",
    "plt.xlabel('Data Split')\n",
    "plt.ylabel('Accuracy')\n",
    "plt.title('Linear Regression Accuracy for Different Splits')\n",
    "plt.show()"
   ]
  }
 ],
 "metadata": {
  "kernelspec": {
   "display_name": "Python 3",
   "language": "python",
   "name": "python3"
  },
  "language_info": {
   "codemirror_mode": {
    "name": "ipython",
    "version": 3
   },
   "file_extension": ".py",
   "mimetype": "text/x-python",
   "name": "python",
   "nbconvert_exporter": "python",
   "pygments_lexer": "ipython3",
   "version": "3.12.4"
  }
 },
 "nbformat": 4,
 "nbformat_minor": 2
}
