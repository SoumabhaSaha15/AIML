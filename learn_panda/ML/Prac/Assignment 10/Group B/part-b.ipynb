{
 "cells": [
  {
   "cell_type": "markdown",
   "metadata": {},
   "source": [
    "Question 2 :  \n",
    "1. Implement Logistic Regression using Python on iris dataset \n",
    "2. Using the same Iris dataset, build a Logistic Regression model using LogisticRegression   \n",
    "3. Train the model on the training set and make predictions on the test set  (80% : 20% , 90:10 , 75:25,65:35. \n",
    "4. Report the accuracy of the Logistic Regression model. \n",
    "5. Visualize the accuracies for 4  types of splitting \n",
    "6. Compare the accuracy, confusion matrix, and classification report of the Logistic Regression model with that \n",
    "of the KNN model. \n",
    "7. Which model performs better for the Iris dataset? Justify your answer based on the results."
   ]
  },
  {
   "cell_type": "code",
   "execution_count": 2,
   "metadata": {},
   "outputs": [],
   "source": [
    "import pandas as pd\n",
    "from sklearn.model_selection import train_test_split\n",
    "from sklearn.neighbors import KNeighborsClassifier\n",
    "from sklearn.metrics import accuracy_score\n",
    "from sklearn.datasets import load_iris"
   ]
  },
  {
   "cell_type": "code",
   "execution_count": 3,
   "metadata": {},
   "outputs": [],
   "source": [
    "from sklearn.datasets import load_iris\n",
    "iris = load_iris()\n",
    "X = iris.data\n",
    "y = iris.target"
   ]
  }
 ],
 "metadata": {
  "kernelspec": {
   "display_name": "Python 3",
   "language": "python",
   "name": "python3"
  },
  "language_info": {
   "codemirror_mode": {
    "name": "ipython",
    "version": 3
   },
   "file_extension": ".py",
   "mimetype": "text/x-python",
   "name": "python",
   "nbconvert_exporter": "python",
   "pygments_lexer": "ipython3",
   "version": "3.12.4"
  }
 },
 "nbformat": 4,
 "nbformat_minor": 2
}
